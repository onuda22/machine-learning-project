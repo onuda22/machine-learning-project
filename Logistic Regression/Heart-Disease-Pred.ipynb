{
 "cells": [
  {
   "cell_type": "markdown",
   "metadata": {},
   "source": [
    "# Heart Disease Prediction using Logistic Regression\n",
    "## Author: Oki N A\n",
    "## Date: 11-01-2025\n",
    "Description: This script uses logistic regression to predict the likelihood of heart disease based on various factors. World Health Organization has estimated that four out of five cardiovascular disease (CVD) deaths are due to heart attacks. This whole research inteds to pinpoint the ratio of patients who possess a good chance of being affected by CVD and also to predict the overall risk using Logistic Regression"
   ]
  },
  {
   "cell_type": "code",
   "execution_count": 8,
   "metadata": {},
   "outputs": [],
   "source": [
    "# Importing Library\n",
    "import pandas as pd\n",
    "import numpy as np\n",
    "from sklearn import preprocessing\n",
    "'exec(% matplotlib inline)'\n",
    "import matplotlib.pyplot as plt\n",
    "import seaborn as sns"
   ]
  },
  {
   "cell_type": "markdown",
   "metadata": {},
   "source": [
    "## Data Preparation\n",
    "The dataset is from an ongoing cardiovascular study on residents od the town of Framingham, Massachusetts.\n",
    "\n",
    "### Goal\n",
    "Classification: predict whether the patient has 10-year risk of future coronary heart disease\n",
    "\n",
    "### About\n",
    "The dataset provides the patient's information. It includes over 4000 records and 15 attributes"
   ]
  },
  {
   "cell_type": "code",
   "execution_count": 4,
   "metadata": {},
   "outputs": [],
   "source": [
    "# Loading Dataset\n",
    "disease_df = pd.read_csv(\"../dataset/framingham.csv\")\n",
    "disease_df.drop(['education'], inplace = True, axis = 1)\n",
    "disease_df.rename(columns = {'male':'Sex_male'}, inplace = True)"
   ]
  },
  {
   "cell_type": "code",
   "execution_count": 6,
   "metadata": {},
   "outputs": [
    {
     "name": "stdout",
     "output_type": "stream",
     "text": [
      "   Sex_male  age  currentSmoker  cigsPerDay  BPMeds  prevalentStroke  \\\n",
      "0         1   39              0         0.0     0.0                0   \n",
      "1         0   46              0         0.0     0.0                0   \n",
      "2         1   48              1        20.0     0.0                0   \n",
      "3         0   61              1        30.0     0.0                0   \n",
      "4         0   46              1        23.0     0.0                0   \n",
      "\n",
      "   prevalentHyp  diabetes  totChol  sysBP  diaBP    BMI  heartRate  glucose  \\\n",
      "0             0         0    195.0  106.0   70.0  26.97       80.0     77.0   \n",
      "1             0         0    250.0  121.0   81.0  28.73       95.0     76.0   \n",
      "2             0         0    245.0  127.5   80.0  25.34       75.0     70.0   \n",
      "3             1         0    225.0  150.0   95.0  28.58       65.0    103.0   \n",
      "4             0         0    285.0  130.0   84.0  23.10       85.0     85.0   \n",
      "\n",
      "   TenYearCHD  \n",
      "0           0  \n",
      "1           0  \n",
      "2           0  \n",
      "3           1  \n",
      "4           0   (3751, 15)\n",
      "TenYearCHD\n",
      "0    3179\n",
      "1     572\n",
      "Name: count, dtype: int64\n"
     ]
    }
   ],
   "source": [
    "# Handling Missing Values\n",
    "# Removing NaN/Null values\n",
    "disease_df.dropna(axis = 0, inplace = True)\n",
    "print(disease_df.head(), disease_df.shape)\n",
    "print(disease_df.TenYearCHD.value_counts())"
   ]
  },
  {
   "cell_type": "code",
   "execution_count": 9,
   "metadata": {},
   "outputs": [],
   "source": [
    "# Splitting the Dataset into Train and Test Sets\n",
    "\n",
    "X = np.asarray(disease_df[['age', 'Sex_male', 'cigsPerDay', 'totChol', 'sysBP', 'glucose']])\n",
    "y = np.asarray(disease_df['TenYearCHD'])\n",
    "\n",
    "# normalization of the dataset\n",
    "X = preprocessing.StandardScaler().fit(X).transform(X)"
   ]
  },
  {
   "cell_type": "code",
   "execution_count": 11,
   "metadata": {},
   "outputs": [
    {
     "name": "stdout",
     "output_type": "stream",
     "text": [
      "Train Set: (2625, 6) (2625,)\n",
      "Test Set: (1126, 6) (1126,)\n"
     ]
    }
   ],
   "source": [
    "# Train and Test Split\n",
    "from sklearn.model_selection import train_test_split\n",
    "\n",
    "X_train, X_test, y_train, y_test = train_test_split(X, y, test_size = 0.3, random_state = 4)\n",
    "\n",
    "print('Train Set:', X_train.shape, y_train.shape)\n",
    "print('Test Set:', X_test.shape, y_test.shape)"
   ]
  },
  {
   "cell_type": "code",
   "execution_count": null,
   "metadata": {},
   "outputs": [],
   "source": []
  }
 ],
 "metadata": {
  "kernelspec": {
   "display_name": "Python 3 (ipykernel)",
   "language": "python",
   "name": "python3"
  },
  "language_info": {
   "codemirror_mode": {
    "name": "ipython",
    "version": 3
   },
   "file_extension": ".py",
   "mimetype": "text/x-python",
   "name": "python",
   "nbconvert_exporter": "python",
   "pygments_lexer": "ipython3",
   "version": "3.12.5"
  }
 },
 "nbformat": 4,
 "nbformat_minor": 4
}
